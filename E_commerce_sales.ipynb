{
 "cells": [
  {
   "cell_type": "markdown",
   "id": "03abab55",
   "metadata": {},
   "source": [
    "# Extracting Data"
   ]
  },
  {
   "cell_type": "markdown",
   "id": "11ce6221",
   "metadata": {},
   "source": [
    "Extracting data from source database using API from kaggle"
   ]
  },
  {
   "cell_type": "code",
   "execution_count": null,
   "id": "5cc26765",
   "metadata": {},
   "outputs": [],
   "source": [
    "stop here execute from 2nd line"
   ]
  },
  {
   "cell_type": "code",
   "execution_count": 6,
   "id": "7b9e66cb",
   "metadata": {},
   "outputs": [
    {
     "name": "stdout",
     "output_type": "stream",
     "text": [
      "Please provide your Kaggle credentials to download this dataset. Learn more: http://bit.ly/kaggle-creds\n",
      "Your Kaggle username: ankit117kr\n",
      "Your Kaggle Key: ········\n",
      "Downloading brazilian-ecommerce.zip to .\\brazilian-ecommerce\n"
     ]
    },
    {
     "name": "stderr",
     "output_type": "stream",
     "text": [
      "100%|██████████| 42.6M/42.6M [00:15<00:00, 2.96MB/s]\n"
     ]
    },
    {
     "name": "stdout",
     "output_type": "stream",
     "text": [
      "\n"
     ]
    }
   ],
   "source": [
    "import opendatasets as od\n",
    "\n",
    "dataset='https://www.kaggle.com/datasets/olistbr/brazilian-ecommerce'\n",
    "od.download(dataset)"
   ]
  },
  {
   "cell_type": "markdown",
   "id": "5d50072d",
   "metadata": {},
   "source": [
    "List of all file downloaded from source dataset"
   ]
  },
  {
   "cell_type": "code",
   "execution_count": 15,
   "id": "95990135",
   "metadata": {},
   "outputs": [
    {
     "name": "stdout",
     "output_type": "stream",
     "text": [
      "total 9 file downloaded from the source database as listed below\n"
     ]
    },
    {
     "data": {
      "text/plain": [
       "['.ipynb_checkpoints',\n",
       " 'olist_customers_dataset.csv',\n",
       " 'olist_geolocation_dataset.csv',\n",
       " 'olist_orders_dataset.csv',\n",
       " 'olist_order_items_dataset.csv',\n",
       " 'olist_order_payments_dataset.csv',\n",
       " 'olist_products_dataset.csv',\n",
       " 'olist_sellers_dataset.csv',\n",
       " 'product_category_name_translation.csv']"
      ]
     },
     "execution_count": 15,
     "metadata": {},
     "output_type": "execute_result"
    }
   ],
   "source": [
    "import os\n",
    "\n",
    "data_dir='./brazilian-ecommerce'\n",
    "\n",
    "print('total',len(os.listdir(data_dir)),'file downloaded from the source database as listed below')\n",
    "os.listdir(data_dir)"
   ]
  },
  {
   "cell_type": "markdown",
   "id": "96d2ced3",
   "metadata": {},
   "source": [
    "Selecting one table at one time and performing EDA"
   ]
  },
  {
   "cell_type": "code",
   "execution_count": 22,
   "id": "44a7c4e6",
   "metadata": {},
   "outputs": [
    {
     "data": {
      "text/html": [
       "<div>\n",
       "<style scoped>\n",
       "    .dataframe tbody tr th:only-of-type {\n",
       "        vertical-align: middle;\n",
       "    }\n",
       "\n",
       "    .dataframe tbody tr th {\n",
       "        vertical-align: top;\n",
       "    }\n",
       "\n",
       "    .dataframe thead th {\n",
       "        text-align: right;\n",
       "    }\n",
       "</style>\n",
       "<table border=\"1\" class=\"dataframe\">\n",
       "  <thead>\n",
       "    <tr style=\"text-align: right;\">\n",
       "      <th></th>\n",
       "      <th>product_category_name</th>\n",
       "      <th>product_category_name_english</th>\n",
       "    </tr>\n",
       "  </thead>\n",
       "  <tbody>\n",
       "    <tr>\n",
       "      <th>0</th>\n",
       "      <td>beleza_saude</td>\n",
       "      <td>health_beauty</td>\n",
       "    </tr>\n",
       "    <tr>\n",
       "      <th>1</th>\n",
       "      <td>informatica_acessorios</td>\n",
       "      <td>computers_accessories</td>\n",
       "    </tr>\n",
       "    <tr>\n",
       "      <th>2</th>\n",
       "      <td>automotivo</td>\n",
       "      <td>auto</td>\n",
       "    </tr>\n",
       "    <tr>\n",
       "      <th>3</th>\n",
       "      <td>cama_mesa_banho</td>\n",
       "      <td>bed_bath_table</td>\n",
       "    </tr>\n",
       "    <tr>\n",
       "      <th>4</th>\n",
       "      <td>moveis_decoracao</td>\n",
       "      <td>furniture_decor</td>\n",
       "    </tr>\n",
       "  </tbody>\n",
       "</table>\n",
       "</div>"
      ],
      "text/plain": [
       "    product_category_name product_category_name_english\n",
       "0            beleza_saude                 health_beauty\n",
       "1  informatica_acessorios         computers_accessories\n",
       "2              automotivo                          auto\n",
       "3         cama_mesa_banho                bed_bath_table\n",
       "4        moveis_decoracao               furniture_decor"
      ]
     },
     "execution_count": 22,
     "metadata": {},
     "output_type": "execute_result"
    }
   ],
   "source": [
    "import pandas as pd\n",
    "\n",
    "df= pd.read_csv('./brazilian-ecommerce/product_category_name_translation.csv')\n",
    "df.sample(5)"
   ]
  },
  {
   "cell_type": "markdown",
   "id": "f15e6df0",
   "metadata": {},
   "source": [
    "Exploratory Data Analysis of tables \n",
    "\n",
    "a) Shape and size of DataFrame\n",
    "\n",
    "b) Finding Dublicate rows, Missing Values, Outlier value\n",
    "\n",
    "c) Measure of central tendency (mean, median, mode)\n",
    "\n",
    "d) Kernel density function (skewness, kurtosis)\n",
    "\n",
    "e) Measure of dispersion (standard deviation, Range, min, max, percentile)"
   ]
  },
  {
   "cell_type": "code",
   "execution_count": 31,
   "id": "98e6c079",
   "metadata": {},
   "outputs": [
    {
     "data": {
      "text/plain": [
       "(71, 2)"
      ]
     },
     "execution_count": 31,
     "metadata": {},
     "output_type": "execute_result"
    }
   ],
   "source": [
    "df.shape"
   ]
  },
  {
   "cell_type": "code",
   "execution_count": 23,
   "id": "b4d60e5f",
   "metadata": {},
   "outputs": [
    {
     "name": "stdout",
     "output_type": "stream",
     "text": [
      "<class 'pandas.core.frame.DataFrame'>\n",
      "RangeIndex: 71 entries, 0 to 70\n",
      "Data columns (total 2 columns):\n",
      " #   Column                         Non-Null Count  Dtype \n",
      "---  ------                         --------------  ----- \n",
      " 0   product_category_name          71 non-null     object\n",
      " 1   product_category_name_english  71 non-null     object\n",
      "dtypes: object(2)\n",
      "memory usage: 1.2+ KB\n"
     ]
    }
   ],
   "source": [
    "df.info()"
   ]
  },
  {
   "cell_type": "code",
   "execution_count": 25,
   "id": "959809c3",
   "metadata": {},
   "outputs": [
    {
     "data": {
      "text/html": [
       "<div>\n",
       "<style scoped>\n",
       "    .dataframe tbody tr th:only-of-type {\n",
       "        vertical-align: middle;\n",
       "    }\n",
       "\n",
       "    .dataframe tbody tr th {\n",
       "        vertical-align: top;\n",
       "    }\n",
       "\n",
       "    .dataframe thead th {\n",
       "        text-align: right;\n",
       "    }\n",
       "</style>\n",
       "<table border=\"1\" class=\"dataframe\">\n",
       "  <thead>\n",
       "    <tr style=\"text-align: right;\">\n",
       "      <th></th>\n",
       "      <th>product_category_name</th>\n",
       "      <th>product_category_name_english</th>\n",
       "    </tr>\n",
       "  </thead>\n",
       "  <tbody>\n",
       "    <tr>\n",
       "      <th>count</th>\n",
       "      <td>71</td>\n",
       "      <td>71</td>\n",
       "    </tr>\n",
       "    <tr>\n",
       "      <th>unique</th>\n",
       "      <td>71</td>\n",
       "      <td>71</td>\n",
       "    </tr>\n",
       "    <tr>\n",
       "      <th>top</th>\n",
       "      <td>beleza_saude</td>\n",
       "      <td>health_beauty</td>\n",
       "    </tr>\n",
       "    <tr>\n",
       "      <th>freq</th>\n",
       "      <td>1</td>\n",
       "      <td>1</td>\n",
       "    </tr>\n",
       "  </tbody>\n",
       "</table>\n",
       "</div>"
      ],
      "text/plain": [
       "       product_category_name product_category_name_english\n",
       "count                     71                            71\n",
       "unique                    71                            71\n",
       "top             beleza_saude                 health_beauty\n",
       "freq                       1                             1"
      ]
     },
     "execution_count": 25,
     "metadata": {},
     "output_type": "execute_result"
    }
   ],
   "source": [
    "df.describe()"
   ]
  },
  {
   "cell_type": "code",
   "execution_count": 27,
   "id": "42bf3529",
   "metadata": {},
   "outputs": [
    {
     "data": {
      "text/plain": [
       "product_category_name            0\n",
       "product_category_name_english    0\n",
       "dtype: int64"
      ]
     },
     "execution_count": 27,
     "metadata": {},
     "output_type": "execute_result"
    }
   ],
   "source": [
    "df.isnull().sum()"
   ]
  },
  {
   "cell_type": "markdown",
   "id": "c92fe52e",
   "metadata": {},
   "source": [
    "uploading the dataset into SQL server or local server to built relationship among table and organising dataset"
   ]
  },
  {
   "cell_type": "markdown",
   "id": "06144504",
   "metadata": {},
   "source": [
    "# Transforming Data"
   ]
  },
  {
   "cell_type": "markdown",
   "id": "fc64f145",
   "metadata": {},
   "source": [
    "Loading data from local server and performing Feature Engineering as per requirement of matrix"
   ]
  },
  {
   "cell_type": "code",
   "execution_count": 51,
   "id": "86b471a9",
   "metadata": {
    "scrolled": true
   },
   "outputs": [],
   "source": [
    "import pyodbc\n",
    "\n",
    "conn = pyodbc.connect(\"Driver={SQL Server};\"\n",
    "                      \"Server=LAPTOP-BTANJQA0\\\\ankro,1433;\" \n",
    "                      \"database=E_COMMERCE;\" \n",
    "                      \"Trusted_connection=yes;\")\n",
    "\n",
    "cursr=conn.cursor()"
   ]
  },
  {
   "cell_type": "markdown",
   "id": "410d75de",
   "metadata": {},
   "source": [
    "Writing query as per KPI metric"
   ]
  },
  {
   "cell_type": "code",
   "execution_count": 129,
   "id": "2d622085",
   "metadata": {},
   "outputs": [],
   "source": [
    "cursr.execute('WITH CTE_Table AS('\n",
    "        'SELECT  P.Category_ID,P.Product,SUM(OD.Quantity)AS Total_sold,DENSE_RANK()OVER(PARTITION BY Category_ID ORDER BY SUM(OD.Quantity) DESC) AS Rnk '\n",
    "        'FROM Category AS C JOIN Products AS P ON C.CategoryID=P.Category_ID JOIN OrderDetails AS OD ON P.ProductID=OD.ProductID JOIN Orders AS O ON OD.OrderID=O.OrderID ' \n",
    "        'WHERE C.Active = \\'Yes\\' '\n",
    "        'GROUP BY P.Category_ID,P.Product)'\n",
    "        'SELECT Category_ID,Product,Total_sold, Rnk FROM CTE_Table '\n",
    "        'WHERE Rnk<=3 GROUP BY Category_ID,Product,Total_sold,Rnk ORDER BY Category_ID,Rnk;')\n",
    "\n",
    "data = cursr.fetchall()"
   ]
  },
  {
   "cell_type": "code",
   "execution_count": 130,
   "id": "dbe76c54",
   "metadata": {
    "scrolled": true
   },
   "outputs": [
    {
     "data": {
      "text/html": [
       "<div>\n",
       "<style scoped>\n",
       "    .dataframe tbody tr th:only-of-type {\n",
       "        vertical-align: middle;\n",
       "    }\n",
       "\n",
       "    .dataframe tbody tr th {\n",
       "        vertical-align: top;\n",
       "    }\n",
       "\n",
       "    .dataframe thead th {\n",
       "        text-align: right;\n",
       "    }\n",
       "</style>\n",
       "<table border=\"1\" class=\"dataframe\">\n",
       "  <thead>\n",
       "    <tr style=\"text-align: right;\">\n",
       "      <th></th>\n",
       "      <th>Category_ID</th>\n",
       "      <th>Product</th>\n",
       "      <th>Total_sold</th>\n",
       "      <th>Rnk</th>\n",
       "    </tr>\n",
       "  </thead>\n",
       "  <tbody>\n",
       "    <tr>\n",
       "      <th>0</th>\n",
       "      <td>5001</td>\n",
       "      <td>Della Storage Container With Lid - Assorted Co...</td>\n",
       "      <td>113</td>\n",
       "      <td>1</td>\n",
       "    </tr>\n",
       "    <tr>\n",
       "      <th>1</th>\n",
       "      <td>5001</td>\n",
       "      <td>Dyna Plastic Bathroom Stool/Patla - Printed, A...</td>\n",
       "      <td>95</td>\n",
       "      <td>2</td>\n",
       "    </tr>\n",
       "    <tr>\n",
       "      <th>2</th>\n",
       "      <td>5001</td>\n",
       "      <td>Toilet Cleaner</td>\n",
       "      <td>93</td>\n",
       "      <td>3</td>\n",
       "    </tr>\n",
       "    <tr>\n",
       "      <th>3</th>\n",
       "      <td>5002</td>\n",
       "      <td>Pantry/Cookie/Snacks Glass Jar With Blue Lid</td>\n",
       "      <td>103</td>\n",
       "      <td>1</td>\n",
       "    </tr>\n",
       "    <tr>\n",
       "      <th>4</th>\n",
       "      <td>5002</td>\n",
       "      <td>Storage Steel Airtight Round Container - Klip ...</td>\n",
       "      <td>95</td>\n",
       "      <td>2</td>\n",
       "    </tr>\n",
       "    <tr>\n",
       "      <th>5</th>\n",
       "      <td>5002</td>\n",
       "      <td>Adult Dry Cat Food - +1 Year, Ocean Fish</td>\n",
       "      <td>78</td>\n",
       "      <td>3</td>\n",
       "    </tr>\n",
       "    <tr>\n",
       "      <th>6</th>\n",
       "      <td>5003</td>\n",
       "      <td>Turmeric Powder/Arisina Pudi</td>\n",
       "      <td>269</td>\n",
       "      <td>1</td>\n",
       "    </tr>\n",
       "    <tr>\n",
       "      <th>7</th>\n",
       "      <td>5003</td>\n",
       "      <td>Ghee/Tuppa</td>\n",
       "      <td>188</td>\n",
       "      <td>2</td>\n",
       "    </tr>\n",
       "    <tr>\n",
       "      <th>8</th>\n",
       "      <td>5003</td>\n",
       "      <td>Coriander Powder</td>\n",
       "      <td>186</td>\n",
       "      <td>3</td>\n",
       "    </tr>\n",
       "    <tr>\n",
       "      <th>9</th>\n",
       "      <td>5004</td>\n",
       "      <td>Extra Virgin Olive Oil</td>\n",
       "      <td>194</td>\n",
       "      <td>1</td>\n",
       "    </tr>\n",
       "    <tr>\n",
       "      <th>10</th>\n",
       "      <td>5004</td>\n",
       "      <td>Olive Oil - Extra Virgin</td>\n",
       "      <td>154</td>\n",
       "      <td>2</td>\n",
       "    </tr>\n",
       "    <tr>\n",
       "      <th>11</th>\n",
       "      <td>5004</td>\n",
       "      <td>Olive Oil - Pomace</td>\n",
       "      <td>146</td>\n",
       "      <td>3</td>\n",
       "    </tr>\n",
       "    <tr>\n",
       "      <th>12</th>\n",
       "      <td>5006</td>\n",
       "      <td>Choco Deck - French Dessert Inspired Layered Bar</td>\n",
       "      <td>115</td>\n",
       "      <td>1</td>\n",
       "    </tr>\n",
       "    <tr>\n",
       "      <th>13</th>\n",
       "      <td>5006</td>\n",
       "      <td>Corn Flakes</td>\n",
       "      <td>99</td>\n",
       "      <td>2</td>\n",
       "    </tr>\n",
       "    <tr>\n",
       "      <th>14</th>\n",
       "      <td>5006</td>\n",
       "      <td>French Fries</td>\n",
       "      <td>92</td>\n",
       "      <td>3</td>\n",
       "    </tr>\n",
       "    <tr>\n",
       "      <th>15</th>\n",
       "      <td>5007</td>\n",
       "      <td>Cooking Butter - Unsalted</td>\n",
       "      <td>89</td>\n",
       "      <td>1</td>\n",
       "    </tr>\n",
       "    <tr>\n",
       "      <th>16</th>\n",
       "      <td>5007</td>\n",
       "      <td>Almond Milk - Chocolate</td>\n",
       "      <td>85</td>\n",
       "      <td>2</td>\n",
       "    </tr>\n",
       "    <tr>\n",
       "      <th>17</th>\n",
       "      <td>5007</td>\n",
       "      <td>Cookies - Butter Pista</td>\n",
       "      <td>82</td>\n",
       "      <td>3</td>\n",
       "    </tr>\n",
       "    <tr>\n",
       "      <th>18</th>\n",
       "      <td>5008</td>\n",
       "      <td>Anti Dandruff Shampoo</td>\n",
       "      <td>124</td>\n",
       "      <td>1</td>\n",
       "    </tr>\n",
       "    <tr>\n",
       "      <th>19</th>\n",
       "      <td>5008</td>\n",
       "      <td>Casting Creme Gloss Hair Color</td>\n",
       "      <td>113</td>\n",
       "      <td>2</td>\n",
       "    </tr>\n",
       "    <tr>\n",
       "      <th>20</th>\n",
       "      <td>5008</td>\n",
       "      <td>Hand Sanitizer</td>\n",
       "      <td>113</td>\n",
       "      <td>2</td>\n",
       "    </tr>\n",
       "    <tr>\n",
       "      <th>21</th>\n",
       "      <td>5008</td>\n",
       "      <td>Excellence Creme Hair Color</td>\n",
       "      <td>104</td>\n",
       "      <td>3</td>\n",
       "    </tr>\n",
       "    <tr>\n",
       "      <th>22</th>\n",
       "      <td>5009</td>\n",
       "      <td>Soft Drink</td>\n",
       "      <td>116</td>\n",
       "      <td>1</td>\n",
       "    </tr>\n",
       "    <tr>\n",
       "      <th>23</th>\n",
       "      <td>5009</td>\n",
       "      <td>Masala Tea</td>\n",
       "      <td>105</td>\n",
       "      <td>2</td>\n",
       "    </tr>\n",
       "    <tr>\n",
       "      <th>24</th>\n",
       "      <td>5009</td>\n",
       "      <td>Chocolate Health Drink - Bournvita</td>\n",
       "      <td>82</td>\n",
       "      <td>3</td>\n",
       "    </tr>\n",
       "    <tr>\n",
       "      <th>25</th>\n",
       "      <td>5011</td>\n",
       "      <td>Red Cabbage - Grated</td>\n",
       "      <td>69</td>\n",
       "      <td>1</td>\n",
       "    </tr>\n",
       "    <tr>\n",
       "      <th>26</th>\n",
       "      <td>5011</td>\n",
       "      <td>Pineapple - Organically Grown</td>\n",
       "      <td>68</td>\n",
       "      <td>2</td>\n",
       "    </tr>\n",
       "    <tr>\n",
       "      <th>27</th>\n",
       "      <td>5011</td>\n",
       "      <td>Muskmelon - Organically Grown</td>\n",
       "      <td>66</td>\n",
       "      <td>3</td>\n",
       "    </tr>\n",
       "  </tbody>\n",
       "</table>\n",
       "</div>"
      ],
      "text/plain": [
       "    Category_ID                                            Product  \\\n",
       "0          5001  Della Storage Container With Lid - Assorted Co...   \n",
       "1          5001  Dyna Plastic Bathroom Stool/Patla - Printed, A...   \n",
       "2          5001                                     Toilet Cleaner   \n",
       "3          5002       Pantry/Cookie/Snacks Glass Jar With Blue Lid   \n",
       "4          5002  Storage Steel Airtight Round Container - Klip ...   \n",
       "5          5002           Adult Dry Cat Food - +1 Year, Ocean Fish   \n",
       "6          5003                       Turmeric Powder/Arisina Pudi   \n",
       "7          5003                                         Ghee/Tuppa   \n",
       "8          5003                                   Coriander Powder   \n",
       "9          5004                             Extra Virgin Olive Oil   \n",
       "10         5004                           Olive Oil - Extra Virgin   \n",
       "11         5004                                 Olive Oil - Pomace   \n",
       "12         5006   Choco Deck - French Dessert Inspired Layered Bar   \n",
       "13         5006                                        Corn Flakes   \n",
       "14         5006                                       French Fries   \n",
       "15         5007                          Cooking Butter - Unsalted   \n",
       "16         5007                            Almond Milk - Chocolate   \n",
       "17         5007                             Cookies - Butter Pista   \n",
       "18         5008                              Anti Dandruff Shampoo   \n",
       "19         5008                     Casting Creme Gloss Hair Color   \n",
       "20         5008                                     Hand Sanitizer   \n",
       "21         5008                        Excellence Creme Hair Color   \n",
       "22         5009                                         Soft Drink   \n",
       "23         5009                                         Masala Tea   \n",
       "24         5009                 Chocolate Health Drink - Bournvita   \n",
       "25         5011                               Red Cabbage - Grated   \n",
       "26         5011                      Pineapple - Organically Grown   \n",
       "27         5011                      Muskmelon - Organically Grown   \n",
       "\n",
       "    Total_sold  Rnk  \n",
       "0          113    1  \n",
       "1           95    2  \n",
       "2           93    3  \n",
       "3          103    1  \n",
       "4           95    2  \n",
       "5           78    3  \n",
       "6          269    1  \n",
       "7          188    2  \n",
       "8          186    3  \n",
       "9          194    1  \n",
       "10         154    2  \n",
       "11         146    3  \n",
       "12         115    1  \n",
       "13          99    2  \n",
       "14          92    3  \n",
       "15          89    1  \n",
       "16          85    2  \n",
       "17          82    3  \n",
       "18         124    1  \n",
       "19         113    2  \n",
       "20         113    2  \n",
       "21         104    3  \n",
       "22         116    1  \n",
       "23         105    2  \n",
       "24          82    3  \n",
       "25          69    1  \n",
       "26          68    2  \n",
       "27          66    3  "
      ]
     },
     "execution_count": 130,
     "metadata": {},
     "output_type": "execute_result"
    }
   ],
   "source": [
    "col_names = [desc[0] for desc in cursr.description]\n",
    "KPI1 = pd.DataFrame.from_records(data, columns=col_names)\n",
    "KPI1"
   ]
  },
  {
   "cell_type": "markdown",
   "id": "7b812073",
   "metadata": {},
   "source": [
    "1)  KPI for Average delivery time for each Vendor company"
   ]
  },
  {
   "cell_type": "code",
   "execution_count": 131,
   "id": "e07c4757",
   "metadata": {},
   "outputs": [],
   "source": [
    "cursr.execute('SELECT S.CompanyName, AVG(DATEDIFF(DD, O.ShipDate, O.DeliveryDate)) AS Delivery_Time '\n",
    "              'FROM Orders AS O JOIN Shippers AS S ON O.ShipperID = S.ShipperID ' \n",
    "              'GROUP BY S.CompanyName ' )\n",
    "\n",
    "data = cursr.fetchall()"
   ]
  },
  {
   "cell_type": "code",
   "execution_count": 132,
   "id": "75e8b365",
   "metadata": {},
   "outputs": [
    {
     "data": {
      "text/html": [
       "<div>\n",
       "<style scoped>\n",
       "    .dataframe tbody tr th:only-of-type {\n",
       "        vertical-align: middle;\n",
       "    }\n",
       "\n",
       "    .dataframe tbody tr th {\n",
       "        vertical-align: top;\n",
       "    }\n",
       "\n",
       "    .dataframe thead th {\n",
       "        text-align: right;\n",
       "    }\n",
       "</style>\n",
       "<table border=\"1\" class=\"dataframe\">\n",
       "  <thead>\n",
       "    <tr style=\"text-align: right;\">\n",
       "      <th></th>\n",
       "      <th>CompanyName</th>\n",
       "      <th>Delivery_Time</th>\n",
       "    </tr>\n",
       "  </thead>\n",
       "  <tbody>\n",
       "    <tr>\n",
       "      <th>0</th>\n",
       "      <td>Blue Dart</td>\n",
       "      <td>10</td>\n",
       "    </tr>\n",
       "    <tr>\n",
       "      <th>1</th>\n",
       "      <td>COSCO China Ocean Shipping Company</td>\n",
       "      <td>10</td>\n",
       "    </tr>\n",
       "    <tr>\n",
       "      <th>2</th>\n",
       "      <td>Delhivery</td>\n",
       "      <td>10</td>\n",
       "    </tr>\n",
       "    <tr>\n",
       "      <th>3</th>\n",
       "      <td>DTDC</td>\n",
       "      <td>10</td>\n",
       "    </tr>\n",
       "    <tr>\n",
       "      <th>4</th>\n",
       "      <td>Fed Ex</td>\n",
       "      <td>10</td>\n",
       "    </tr>\n",
       "    <tr>\n",
       "      <th>5</th>\n",
       "      <td>Hapag Lloyd</td>\n",
       "      <td>10</td>\n",
       "    </tr>\n",
       "    <tr>\n",
       "      <th>6</th>\n",
       "      <td>Lufthansa Cargo</td>\n",
       "      <td>10</td>\n",
       "    </tr>\n",
       "    <tr>\n",
       "      <th>7</th>\n",
       "      <td>ONE Ocean Network Express</td>\n",
       "      <td>10</td>\n",
       "    </tr>\n",
       "  </tbody>\n",
       "</table>\n",
       "</div>"
      ],
      "text/plain": [
       "                          CompanyName  Delivery_Time\n",
       "0                           Blue Dart             10\n",
       "1  COSCO China Ocean Shipping Company             10\n",
       "2                           Delhivery             10\n",
       "3                                DTDC             10\n",
       "4                              Fed Ex             10\n",
       "5                         Hapag Lloyd             10\n",
       "6                     Lufthansa Cargo             10\n",
       "7           ONE Ocean Network Express             10"
      ]
     },
     "execution_count": 132,
     "metadata": {},
     "output_type": "execute_result"
    }
   ],
   "source": [
    "col_names = [desc[0] for desc in cursr.description]\n",
    "KPI2 = pd.DataFrame.from_records(data, columns=col_names)\n",
    "KPI2"
   ]
  },
  {
   "cell_type": "code",
   "execution_count": null,
   "id": "7fa08574",
   "metadata": {},
   "outputs": [],
   "source": []
  },
  {
   "cell_type": "markdown",
   "id": "3ceb784b",
   "metadata": {},
   "source": [
    "Feature Engineering\n",
    "\n",
    "a) Handeling Missing Value, Dublicate row\n",
    "\n",
    "b) Handeling Outlier Data\n",
    "\n",
    "c) Handeling Category&Numerical Data\n",
    "\n",
    "d) Feature extraction\n",
    "\n",
    "e) Feature Scaling"
   ]
  },
  {
   "cell_type": "code",
   "execution_count": null,
   "id": "69625ee8",
   "metadata": {},
   "outputs": [],
   "source": []
  }
 ],
 "metadata": {
  "kernelspec": {
   "display_name": "Python 3 (ipykernel)",
   "language": "python",
   "name": "python3"
  },
  "language_info": {
   "codemirror_mode": {
    "name": "ipython",
    "version": 3
   },
   "file_extension": ".py",
   "mimetype": "text/x-python",
   "name": "python",
   "nbconvert_exporter": "python",
   "pygments_lexer": "ipython3",
   "version": "3.9.7"
  }
 },
 "nbformat": 4,
 "nbformat_minor": 5
}
